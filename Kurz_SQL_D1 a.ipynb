{
 "cells":[
  {
   "cell_type":"code",
   "source":[
    "-- Daj tam cele cislo\/int 1\n",
    "-- Jednoriadkovy komentar v jazyku SQL\n",
    "select 1;\n",
    "-- Daj tam retazec\/varchar Ahoj svet\n",
    "select \"Ahoj svet\";\n",
    "-- Daj tam float\/real 999.99 \n",
    "select 999.99;\n",
    "-- Daj tam date\/datum\n",
    "select \"2022-10-3\";\n",
    "\n",
    "\n",
    "\n",
    "\n",
    "\n"
   ],
   "execution_count":7,
   "outputs":[
    {
     "data":{
      "text\/html":[
       "<div>\n",
       "<style scoped>\n",
       "    .dataframe tbody tr th:only-of-type {\n",
       "        vertical-align: middle;\n",
       "    }\n",
       "\n",
       "    .dataframe tbody tr th {\n",
       "        vertical-align: top;\n",
       "    }\n",
       "\n",
       "    .dataframe thead th {\n",
       "        text-align: right;\n",
       "    }\n",
       "<\/style>\n",
       "<table border=\"1\" class=\"dataframe\">\n",
       "  <thead>\n",
       "    <tr style=\"text-align: right;\">\n",
       "      <th><\/th>\n",
       "      <th>2022-10-3<\/th>\n",
       "    <\/tr>\n",
       "  <\/thead>\n",
       "  <tbody>\n",
       "    <tr>\n",
       "      <th>0<\/th>\n",
       "      <td>2022-10-3<\/td>\n",
       "    <\/tr>\n",
       "  <\/tbody>\n",
       "<\/table>\n",
       "<\/div>"
      ]
     },
     "metadata":{
      
     },
     "output_type":"display_data"
    }
   ],
   "metadata":{
    "datalore":{
     "node_id":"U0V62VTTN9myHPW7WNVZzQ",
     "type":"SQL",
     "hide_input_from_viewers":false,
     "hide_output_from_viewers":false,
     "sql_cell_properties":{
      "dbId":"FCwQXbeBnu6d8c7VnEMBT9",
      "variableName":"df_1",
      "dialect":"mysql.8"
     }
    }
   }
  },
  {
   "cell_type":"code",
   "source":[
    
   ],
   "execution_count":null,
   "outputs":[
    
   ],
   "metadata":{
    "datalore":{
     "node_id":"nbTtQEh3KSOqo0qR6vjxZ1",
     "type":"CODE",
     "hide_input_from_viewers":false,
     "hide_output_from_viewers":false
    }
   }
  },
  {
   "cell_type":"code",
   "source":[
    "-- Zoznam vsetkych databaz\n",
    "show databases;\n",
    "-- Zoznam vsetkych tabuliek\n",
    "show tables;\n",
    "-- Zoznam vsetkych pouzitelov\n",
    "show users;\n",
    "show views;"
   ],
   "execution_count":11,
   "outputs":[
    {
     "data":{
      "text\/html":[
       "<div>\n",
       "<style scoped>\n",
       "    .dataframe tbody tr th:only-of-type {\n",
       "        vertical-align: middle;\n",
       "    }\n",
       "\n",
       "    .dataframe tbody tr th {\n",
       "        vertical-align: top;\n",
       "    }\n",
       "\n",
       "    .dataframe thead th {\n",
       "        text-align: right;\n",
       "    }\n",
       "<\/style>\n",
       "<table border=\"1\" class=\"dataframe\">\n",
       "  <thead>\n",
       "    <tr style=\"text-align: right;\">\n",
       "      <th><\/th>\n",
       "      <th>Tables_in_Kurz_SQL<\/th>\n",
       "    <\/tr>\n",
       "  <\/thead>\n",
       "  <tbody>\n",
       "    <tr>\n",
       "      <th>0<\/th>\n",
       "      <td>Album<\/td>\n",
       "    <\/tr>\n",
       "    <tr>\n",
       "      <th>1<\/th>\n",
       "      <td>City<\/td>\n",
       "    <\/tr>\n",
       "    <tr>\n",
       "      <th>2<\/th>\n",
       "      <td>DEPT<\/td>\n",
       "    <\/tr>\n",
       "    <tr>\n",
       "      <th>3<\/th>\n",
       "      <td>Data_SQLZoo_Nobel_csv<\/td>\n",
       "    <\/tr>\n",
       "    <tr>\n",
       "      <th>4<\/th>\n",
       "      <td>Data_SQLZoo_World_csv<\/td>\n",
       "    <\/tr>\n",
       "    <tr>\n",
       "      <th>5<\/th>\n",
       "      <td>EMP<\/td>\n",
       "    <\/tr>\n",
       "    <tr>\n",
       "      <th>6<\/th>\n",
       "      <td>T1<\/td>\n",
       "    <\/tr>\n",
       "    <tr>\n",
       "      <th>7<\/th>\n",
       "      <td>T10<\/td>\n",
       "    <\/tr>\n",
       "    <tr>\n",
       "      <th>8<\/th>\n",
       "      <td>T100<\/td>\n",
       "    <\/tr>\n",
       "    <tr>\n",
       "      <th>9<\/th>\n",
       "      <td>World<\/td>\n",
       "    <\/tr>\n",
       "    <tr>\n",
       "      <th>10<\/th>\n",
       "      <td>world_csv<\/td>\n",
       "    <\/tr>\n",
       "  <\/tbody>\n",
       "<\/table>\n",
       "<\/div>"
      ]
     },
     "metadata":{
      
     },
     "output_type":"display_data"
    }
   ],
   "metadata":{
    "datalore":{
     "node_id":"NkgPw0ieWMOMgw94ngWrYA",
     "type":"SQL",
     "hide_input_from_viewers":false,
     "hide_output_from_viewers":false,
     "sql_cell_properties":{
      "dbId":"FCwQXbeBnu6d8c7VnEMBT9",
      "variableName":"df_2",
      "dialect":"mysql.8"
     }
    }
   }
  },
  {
   "cell_type":"code",
   "source":[
    "-- Vypis nazov db, na ktoru si pripojeny\n",
    "select DATABASE();\n",
    "use Kurz_SQL;\n",
    "select DATABASE();\n"
   ],
   "execution_count":15,
   "outputs":[
    {
     "data":{
      "text\/html":[
       "<div>\n",
       "<style scoped>\n",
       "    .dataframe tbody tr th:only-of-type {\n",
       "        vertical-align: middle;\n",
       "    }\n",
       "\n",
       "    .dataframe tbody tr th {\n",
       "        vertical-align: top;\n",
       "    }\n",
       "\n",
       "    .dataframe thead th {\n",
       "        text-align: right;\n",
       "    }\n",
       "<\/style>\n",
       "<table border=\"1\" class=\"dataframe\">\n",
       "  <thead>\n",
       "    <tr style=\"text-align: right;\">\n",
       "      <th><\/th>\n",
       "      <th>DATABASE()<\/th>\n",
       "    <\/tr>\n",
       "  <\/thead>\n",
       "  <tbody>\n",
       "    <tr>\n",
       "      <th>0<\/th>\n",
       "      <td>Kurz_SQL<\/td>\n",
       "    <\/tr>\n",
       "  <\/tbody>\n",
       "<\/table>\n",
       "<\/div>"
      ]
     },
     "metadata":{
      
     },
     "output_type":"display_data"
    }
   ],
   "metadata":{
    "datalore":{
     "node_id":"sa1JxZCmAjVX2veUj7qxNV",
     "type":"SQL",
     "hide_input_from_viewers":false,
     "hide_output_from_viewers":false,
     "sql_cell_properties":{
      "dbId":"FCwQXbeBnu6d8c7VnEMBT9",
      "variableName":"df_3",
      "dialect":"mysql.8"
     }
    }
   }
  },
  {
   "cell_type":"code",
   "source":[
    "-- select * from World;\n",
    "-- select name, area, population from World;\n",
    "-- select area, area\/1000, population, name  from World;\n",
    "-- Verzia MySQL\n",
    "select @@version;\n"
   ],
   "execution_count":22,
   "outputs":[
    {
     "data":{
      "text\/html":[
       "<div>\n",
       "<style scoped>\n",
       "    .dataframe tbody tr th:only-of-type {\n",
       "        vertical-align: middle;\n",
       "    }\n",
       "\n",
       "    .dataframe tbody tr th {\n",
       "        vertical-align: top;\n",
       "    }\n",
       "\n",
       "    .dataframe thead th {\n",
       "        text-align: right;\n",
       "    }\n",
       "<\/style>\n",
       "<table border=\"1\" class=\"dataframe\">\n",
       "  <thead>\n",
       "    <tr style=\"text-align: right;\">\n",
       "      <th><\/th>\n",
       "      <th>@@version<\/th>\n",
       "    <\/tr>\n",
       "  <\/thead>\n",
       "  <tbody>\n",
       "    <tr>\n",
       "      <th>0<\/th>\n",
       "      <td>5.7.34-37-log<\/td>\n",
       "    <\/tr>\n",
       "  <\/tbody>\n",
       "<\/table>\n",
       "<\/div>"
      ]
     },
     "metadata":{
      
     },
     "output_type":"display_data"
    }
   ],
   "metadata":{
    "datalore":{
     "node_id":"35EILpmObDdL0jABTUGuoT",
     "type":"SQL",
     "hide_input_from_viewers":false,
     "hide_output_from_viewers":false,
     "sql_cell_properties":{
      "dbId":"FCwQXbeBnu6d8c7VnEMBT9",
      "variableName":"df_4",
      "dialect":"mysql.8"
     }
    }
   }
  },
  {
   "cell_type":"code",
   "source":[
    "-- Operacie aritmeticke + - \/ *\n",
    "select 10-20;\n",
    "-- Delenie realne\n",
    "select 5\/2;\n",
    "-- Delenie celociselne\n",
    "select 5 div 2;\n",
    "-- Delenie so zvyskom\/modulo\n",
    "select 5 % 2;\n",
    "select 5.0 \/ 0.0;"
   ],
   "execution_count":29,
   "outputs":[
    {
     "data":{
      "text\/html":[
       "<div>\n",
       "<style scoped>\n",
       "    .dataframe tbody tr th:only-of-type {\n",
       "        vertical-align: middle;\n",
       "    }\n",
       "\n",
       "    .dataframe tbody tr th {\n",
       "        vertical-align: top;\n",
       "    }\n",
       "\n",
       "    .dataframe thead th {\n",
       "        text-align: right;\n",
       "    }\n",
       "<\/style>\n",
       "<table border=\"1\" class=\"dataframe\">\n",
       "  <thead>\n",
       "    <tr style=\"text-align: right;\">\n",
       "      <th><\/th>\n",
       "      <th>5.0 \/ 0.0<\/th>\n",
       "    <\/tr>\n",
       "  <\/thead>\n",
       "  <tbody>\n",
       "    <tr>\n",
       "      <th>0<\/th>\n",
       "      <td>None<\/td>\n",
       "    <\/tr>\n",
       "  <\/tbody>\n",
       "<\/table>\n",
       "<\/div>"
      ]
     },
     "metadata":{
      
     },
     "output_type":"display_data"
    }
   ],
   "metadata":{
    "datalore":{
     "node_id":"HA0L2g0HDL1fdgdKhiHl6G",
     "type":"SQL",
     "hide_input_from_viewers":false,
     "hide_output_from_viewers":false,
     "sql_cell_properties":{
      "dbId":"FCwQXbeBnu6d8c7VnEMBT9",
      "variableName":"df_5",
      "dialect":"mysql.8"
     }
    }
   }
  },
  {
   "cell_type":"code",
   "source":[
    "-- describe World;\n",
    "show columns from World;"
   ],
   "execution_count":31,
   "outputs":[
    {
     "data":{
      "text\/html":[
       "<div>\n",
       "<style scoped>\n",
       "    .dataframe tbody tr th:only-of-type {\n",
       "        vertical-align: middle;\n",
       "    }\n",
       "\n",
       "    .dataframe tbody tr th {\n",
       "        vertical-align: top;\n",
       "    }\n",
       "\n",
       "    .dataframe thead th {\n",
       "        text-align: right;\n",
       "    }\n",
       "<\/style>\n",
       "<table border=\"1\" class=\"dataframe\">\n",
       "  <thead>\n",
       "    <tr style=\"text-align: right;\">\n",
       "      <th><\/th>\n",
       "      <th>Field<\/th>\n",
       "      <th>Type<\/th>\n",
       "      <th>Null<\/th>\n",
       "      <th>Key<\/th>\n",
       "      <th>Default<\/th>\n",
       "      <th>Extra<\/th>\n",
       "    <\/tr>\n",
       "  <\/thead>\n",
       "  <tbody>\n",
       "    <tr>\n",
       "      <th>0<\/th>\n",
       "      <td>name<\/td>\n",
       "      <td>varchar(32)<\/td>\n",
       "      <td>YES<\/td>\n",
       "      <td><\/td>\n",
       "      <td>None<\/td>\n",
       "      <td><\/td>\n",
       "    <\/tr>\n",
       "    <tr>\n",
       "      <th>1<\/th>\n",
       "      <td>continent<\/td>\n",
       "      <td>varchar(13)<\/td>\n",
       "      <td>YES<\/td>\n",
       "      <td><\/td>\n",
       "      <td>None<\/td>\n",
       "      <td><\/td>\n",
       "    <\/tr>\n",
       "    <tr>\n",
       "      <th>2<\/th>\n",
       "      <td>area<\/td>\n",
       "      <td>int(11)<\/td>\n",
       "      <td>YES<\/td>\n",
       "      <td><\/td>\n",
       "      <td>None<\/td>\n",
       "      <td><\/td>\n",
       "    <\/tr>\n",
       "    <tr>\n",
       "      <th>3<\/th>\n",
       "      <td>population<\/td>\n",
       "      <td>int(11)<\/td>\n",
       "      <td>YES<\/td>\n",
       "      <td><\/td>\n",
       "      <td>None<\/td>\n",
       "      <td><\/td>\n",
       "    <\/tr>\n",
       "    <tr>\n",
       "      <th>4<\/th>\n",
       "      <td>gdp<\/td>\n",
       "      <td>varchar(11)<\/td>\n",
       "      <td>YES<\/td>\n",
       "      <td><\/td>\n",
       "      <td>None<\/td>\n",
       "      <td><\/td>\n",
       "    <\/tr>\n",
       "    <tr>\n",
       "      <th>5<\/th>\n",
       "      <td>capital<\/td>\n",
       "      <td>varchar(25)<\/td>\n",
       "      <td>YES<\/td>\n",
       "      <td><\/td>\n",
       "      <td>None<\/td>\n",
       "      <td><\/td>\n",
       "    <\/tr>\n",
       "    <tr>\n",
       "      <th>6<\/th>\n",
       "      <td>tld<\/td>\n",
       "      <td>varchar(3)<\/td>\n",
       "      <td>YES<\/td>\n",
       "      <td><\/td>\n",
       "      <td>None<\/td>\n",
       "      <td><\/td>\n",
       "    <\/tr>\n",
       "    <tr>\n",
       "      <th>7<\/th>\n",
       "      <td>flag<\/td>\n",
       "      <td>varchar(94)<\/td>\n",
       "      <td>YES<\/td>\n",
       "      <td><\/td>\n",
       "      <td>None<\/td>\n",
       "      <td><\/td>\n",
       "    <\/tr>\n",
       "  <\/tbody>\n",
       "<\/table>\n",
       "<\/div>"
      ]
     },
     "metadata":{
      
     },
     "output_type":"display_data"
    }
   ],
   "metadata":{
    "datalore":{
     "node_id":"prvLdkdaR6xxxmWLNG2bk6",
     "type":"SQL",
     "hide_input_from_viewers":false,
     "hide_output_from_viewers":false,
     "sql_cell_properties":{
      "dbId":"FCwQXbeBnu6d8c7VnEMBT9",
      "variableName":"df_6",
      "dialect":"mysql.8"
     }
    }
   }
  }
 ],
 "metadata":{
  "kernelspec":{
   "display_name":"Python",
   "language":"python",
   "name":"python"
  },
  "datalore":{
   "version":1,
   "computation_mode":"JUPYTER",
   "package_manager":"pip",
   "base_environment":"default",
   "packages":[
    
   ]
  }
 },
 "nbformat":4,
 "nbformat_minor":4
}