{
 "cells":[
  {
   "cell_type":"code",
   "source":[
    "\/*\n",
    "1. Show the total population of the world.\n",
    "*\/\n",
    "\n",
    "select sum(population) as Obyvatelia_Europy\n",
    "from World\n",
    "where continent = \"Europe\";"
   ],
   "execution_count":9,
   "outputs":[
    {
     "data":{
      "text\/html":[
       "<div>\n",
       "<style scoped>\n",
       "    .dataframe tbody tr th:only-of-type {\n",
       "        vertical-align: middle;\n",
       "    }\n",
       "\n",
       "    .dataframe tbody tr th {\n",
       "        vertical-align: top;\n",
       "    }\n",
       "\n",
       "    .dataframe thead th {\n",
       "        text-align: right;\n",
       "    }\n",
       "<\/style>\n",
       "<table border=\"1\" class=\"dataframe\">\n",
       "  <thead>\n",
       "    <tr style=\"text-align: right;\">\n",
       "      <th><\/th>\n",
       "      <th>Obyvatelia_Europy<\/th>\n",
       "    <\/tr>\n",
       "  <\/thead>\n",
       "  <tbody>\n",
       "    <tr>\n",
       "      <th>0<\/th>\n",
       "      <td>610261850<\/td>\n",
       "    <\/tr>\n",
       "  <\/tbody>\n",
       "<\/table>\n",
       "<\/div>"
      ]
     },
     "metadata":{
      
     },
     "output_type":"display_data"
    }
   ],
   "metadata":{
    "datalore":{
     "node_id":"EtOexZXz6PPdpHjxmfNq53",
     "type":"SQL",
     "hide_input_from_viewers":false,
     "hide_output_from_viewers":false,
     "sql_cell_properties":{
      "dbId":"FCwQXbeBnu6d8c7VnEMBT9",
      "variableName":"df_1",
      "dialect":"mysql.8"
     }
    }
   }
  },
  {
   "cell_type":"code",
   "source":[
    "\n",
    "select count(*), count(population), count(name), count(capital), count(gdp)\n",
    "from World\n",
    "-- where continent = \"Europe\";"
   ],
   "execution_count":14,
   "outputs":[
    {
     "data":{
      "text\/html":[
       "<div>\n",
       "<style scoped>\n",
       "    .dataframe tbody tr th:only-of-type {\n",
       "        vertical-align: middle;\n",
       "    }\n",
       "\n",
       "    .dataframe tbody tr th {\n",
       "        vertical-align: top;\n",
       "    }\n",
       "\n",
       "    .dataframe thead th {\n",
       "        text-align: right;\n",
       "    }\n",
       "<\/style>\n",
       "<table border=\"1\" class=\"dataframe\">\n",
       "  <thead>\n",
       "    <tr style=\"text-align: right;\">\n",
       "      <th><\/th>\n",
       "      <th>count(*)<\/th>\n",
       "      <th>count(population)<\/th>\n",
       "      <th>count(name)<\/th>\n",
       "      <th>count(capital)<\/th>\n",
       "      <th>count(gdp)<\/th>\n",
       "    <\/tr>\n",
       "  <\/thead>\n",
       "  <tbody>\n",
       "    <tr>\n",
       "      <th>0<\/th>\n",
       "      <td>195<\/td>\n",
       "      <td>195<\/td>\n",
       "      <td>195<\/td>\n",
       "      <td>195<\/td>\n",
       "      <td>195<\/td>\n",
       "    <\/tr>\n",
       "  <\/tbody>\n",
       "<\/table>\n",
       "<\/div>"
      ]
     },
     "metadata":{
      
     },
     "output_type":"display_data"
    }
   ],
   "metadata":{
    "datalore":{
     "node_id":"IRRm6mdvYsiKF1iYJnmPQ5",
     "type":"SQL",
     "hide_input_from_viewers":false,
     "hide_output_from_viewers":false,
     "sql_cell_properties":{
      "dbId":"FCwQXbeBnu6d8c7VnEMBT9",
      "variableName":"df_2",
      "dialect":"mysql.8"
     }
    }
   }
  },
  {
   "cell_type":"code",
   "source":[
    "\n",
    "select sum(population), avg(population), max(population), min(population), count(population)\n",
    "from World"
   ],
   "execution_count":16,
   "outputs":[
    {
     "data":{
      "text\/html":[
       "<div>\n",
       "<style scoped>\n",
       "    .dataframe tbody tr th:only-of-type {\n",
       "        vertical-align: middle;\n",
       "    }\n",
       "\n",
       "    .dataframe tbody tr th {\n",
       "        vertical-align: top;\n",
       "    }\n",
       "\n",
       "    .dataframe thead th {\n",
       "        text-align: right;\n",
       "    }\n",
       "<\/style>\n",
       "<table border=\"1\" class=\"dataframe\">\n",
       "  <thead>\n",
       "    <tr style=\"text-align: right;\">\n",
       "      <th><\/th>\n",
       "      <th>sum(population)<\/th>\n",
       "      <th>avg(population)<\/th>\n",
       "      <th>max(population)<\/th>\n",
       "      <th>min(population)<\/th>\n",
       "      <th>count(population)<\/th>\n",
       "    <\/tr>\n",
       "  <\/thead>\n",
       "  <tbody>\n",
       "    <tr>\n",
       "      <th>0<\/th>\n",
       "      <td>7118632738<\/td>\n",
       "      <td>3.650581e+07<\/td>\n",
       "      <td>1365370000<\/td>\n",
       "      <td>839<\/td>\n",
       "      <td>195<\/td>\n",
       "    <\/tr>\n",
       "  <\/tbody>\n",
       "<\/table>\n",
       "<\/div>"
      ]
     },
     "metadata":{
      
     },
     "output_type":"display_data"
    }
   ],
   "metadata":{
    "datalore":{
     "node_id":"MC3aVcHynLyT3RDWmOgkxd",
     "type":"SQL",
     "hide_input_from_viewers":false,
     "hide_output_from_viewers":false,
     "sql_cell_properties":{
      "dbId":"FCwQXbeBnu6d8c7VnEMBT9",
      "variableName":"df_3",
      "dialect":"mysql.8"
     }
    }
   }
  },
  {
   "cell_type":"code",
   "source":[
    "\/*\n",
    "2. List of continents\n",
    "List all the continents - just once each.\n",
    "*\/\n",
    "\n",
    "\/* select distinct continent \n",
    "from World\n",
    "order by continent;\n",
    "*\/\n",
    "\n",
    "select continent \n",
    "from World\n",
    "group by continent;"
   ],
   "execution_count":20,
   "outputs":[
    {
     "data":{
      "text\/html":[
       "<div>\n",
       "<style scoped>\n",
       "    .dataframe tbody tr th:only-of-type {\n",
       "        vertical-align: middle;\n",
       "    }\n",
       "\n",
       "    .dataframe tbody tr th {\n",
       "        vertical-align: top;\n",
       "    }\n",
       "\n",
       "    .dataframe thead th {\n",
       "        text-align: right;\n",
       "    }\n",
       "<\/style>\n",
       "<table border=\"1\" class=\"dataframe\">\n",
       "  <thead>\n",
       "    <tr style=\"text-align: right;\">\n",
       "      <th><\/th>\n",
       "      <th>continent<\/th>\n",
       "    <\/tr>\n",
       "  <\/thead>\n",
       "  <tbody>\n",
       "    <tr>\n",
       "      <th>0<\/th>\n",
       "      <td>Africa<\/td>\n",
       "    <\/tr>\n",
       "    <tr>\n",
       "      <th>1<\/th>\n",
       "      <td>Asia<\/td>\n",
       "    <\/tr>\n",
       "    <tr>\n",
       "      <th>2<\/th>\n",
       "      <td>Caribbean<\/td>\n",
       "    <\/tr>\n",
       "    <tr>\n",
       "      <th>3<\/th>\n",
       "      <td>Eurasia<\/td>\n",
       "    <\/tr>\n",
       "    <tr>\n",
       "      <th>4<\/th>\n",
       "      <td>Europe<\/td>\n",
       "    <\/tr>\n",
       "    <tr>\n",
       "      <th>5<\/th>\n",
       "      <td>North America<\/td>\n",
       "    <\/tr>\n",
       "    <tr>\n",
       "      <th>6<\/th>\n",
       "      <td>Oceania<\/td>\n",
       "    <\/tr>\n",
       "    <tr>\n",
       "      <th>7<\/th>\n",
       "      <td>South America<\/td>\n",
       "    <\/tr>\n",
       "  <\/tbody>\n",
       "<\/table>\n",
       "<\/div>"
      ]
     },
     "metadata":{
      
     },
     "output_type":"display_data"
    }
   ],
   "metadata":{
    "datalore":{
     "node_id":"kEKqX3kZDmUmQ2Ssjf8eTO",
     "type":"SQL",
     "hide_input_from_viewers":false,
     "hide_output_from_viewers":false,
     "sql_cell_properties":{
      "dbId":"FCwQXbeBnu6d8c7VnEMBT9",
      "variableName":"df_4",
      "dialect":"mysql.8"
     }
    }
   }
  },
  {
   "cell_type":"code",
   "source":[
    "\/*\n",
    "3. GDP of Africa\n",
    "Give the total GDP of Africa\n",
    "*\/\n",
    "\n",
    "select sum(gdp) 'GDP Afriky'\n",
    "from World\n",
    "where continent = \"Africa\""
   ],
   "execution_count":24,
   "outputs":[
    {
     "data":{
      "text\/html":[
       "<div>\n",
       "<style scoped>\n",
       "    .dataframe tbody tr th:only-of-type {\n",
       "        vertical-align: middle;\n",
       "    }\n",
       "\n",
       "    .dataframe tbody tr th {\n",
       "        vertical-align: top;\n",
       "    }\n",
       "\n",
       "    .dataframe thead th {\n",
       "        text-align: right;\n",
       "    }\n",
       "<\/style>\n",
       "<table border=\"1\" class=\"dataframe\">\n",
       "  <thead>\n",
       "    <tr style=\"text-align: right;\">\n",
       "      <th><\/th>\n",
       "      <th>GDP Afriky<\/th>\n",
       "    <\/tr>\n",
       "  <\/thead>\n",
       "  <tbody>\n",
       "    <tr>\n",
       "      <th>0<\/th>\n",
       "      <td>8.176760e+11<\/td>\n",
       "    <\/tr>\n",
       "  <\/tbody>\n",
       "<\/table>\n",
       "<\/div>"
      ]
     },
     "metadata":{
      
     },
     "output_type":"display_data"
    }
   ],
   "metadata":{
    "datalore":{
     "node_id":"Ak9cnXKEzhJ1xUNbMVrCoQ",
     "type":"SQL",
     "hide_input_from_viewers":false,
     "hide_output_from_viewers":false,
     "sql_cell_properties":{
      "dbId":"FCwQXbeBnu6d8c7VnEMBT9",
      "variableName":"df_5",
      "dialect":"mysql.8"
     }
    }
   }
  },
  {
   "cell_type":"code",
   "source":[
    "\/*\n",
    "4. Count the big countries\n",
    "How many countries have an area of at least 1000000\n",
    "*\/\n",
    "\n",
    "select count(name)\n",
    "from World\n",
    "where area >= 1000000;"
   ],
   "execution_count":25,
   "outputs":[
    {
     "data":{
      "text\/html":[
       "<div>\n",
       "<style scoped>\n",
       "    .dataframe tbody tr th:only-of-type {\n",
       "        vertical-align: middle;\n",
       "    }\n",
       "\n",
       "    .dataframe tbody tr th {\n",
       "        vertical-align: top;\n",
       "    }\n",
       "\n",
       "    .dataframe thead th {\n",
       "        text-align: right;\n",
       "    }\n",
       "<\/style>\n",
       "<table border=\"1\" class=\"dataframe\">\n",
       "  <thead>\n",
       "    <tr style=\"text-align: right;\">\n",
       "      <th><\/th>\n",
       "      <th>count(name)<\/th>\n",
       "    <\/tr>\n",
       "  <\/thead>\n",
       "  <tbody>\n",
       "    <tr>\n",
       "      <th>0<\/th>\n",
       "      <td>29<\/td>\n",
       "    <\/tr>\n",
       "  <\/tbody>\n",
       "<\/table>\n",
       "<\/div>"
      ]
     },
     "metadata":{
      
     },
     "output_type":"display_data"
    }
   ],
   "metadata":{
    "datalore":{
     "node_id":"I1j6eqbH03CcPGubT94UR0",
     "type":"SQL",
     "hide_input_from_viewers":false,
     "hide_output_from_viewers":false,
     "sql_cell_properties":{
      "dbId":"FCwQXbeBnu6d8c7VnEMBT9",
      "variableName":"df_6",
      "dialect":"mysql.8"
     }
    }
   }
  },
  {
   "cell_type":"code",
   "source":[
    "\/*\n",
    "5. Baltic states population\n",
    "What is the total population of ('Estonia', 'Latvia', 'Lithuania')\n",
    "*\/\n",
    "\n",
    "select sum(population)\n",
    "from World\n",
    "where name in ('Estonia', 'Latvia', 'Lithuania')"
   ],
   "execution_count":29,
   "outputs":[
    {
     "data":{
      "text\/html":[
       "<div>\n",
       "<style scoped>\n",
       "    .dataframe tbody tr th:only-of-type {\n",
       "        vertical-align: middle;\n",
       "    }\n",
       "\n",
       "    .dataframe tbody tr th {\n",
       "        vertical-align: top;\n",
       "    }\n",
       "\n",
       "    .dataframe thead th {\n",
       "        text-align: right;\n",
       "    }\n",
       "<\/style>\n",
       "<table border=\"1\" class=\"dataframe\">\n",
       "  <thead>\n",
       "    <tr style=\"text-align: right;\">\n",
       "      <th><\/th>\n",
       "      <th>sum(population)<\/th>\n",
       "    <\/tr>\n",
       "  <\/thead>\n",
       "  <tbody>\n",
       "    <tr>\n",
       "      <th>0<\/th>\n",
       "      <td>7112380988<\/td>\n",
       "    <\/tr>\n",
       "  <\/tbody>\n",
       "<\/table>\n",
       "<\/div>"
      ]
     },
     "metadata":{
      
     },
     "output_type":"display_data"
    }
   ],
   "metadata":{
    "datalore":{
     "node_id":"HbybsXTk4KR5uf9HxtoiRo",
     "type":"SQL",
     "hide_input_from_viewers":false,
     "hide_output_from_viewers":false,
     "sql_cell_properties":{
      "dbId":"FCwQXbeBnu6d8c7VnEMBT9",
      "variableName":"df_7",
      "dialect":"mysql.8"
     }
    }
   }
  },
  {
   "cell_type":"code",
   "source":[
    "\/* \n",
    "6.Counting the countries of each continent\n",
    "For each continent show the continent and number of countries.\n",
    "*\/\n",
    "select continent, count(name)\n",
    "from World\n",
    "group by continent\n",
    "order by count(name) DESC"
   ],
   "execution_count":33,
   "outputs":[
    {
     "data":{
      "text\/html":[
       "<div>\n",
       "<style scoped>\n",
       "    .dataframe tbody tr th:only-of-type {\n",
       "        vertical-align: middle;\n",
       "    }\n",
       "\n",
       "    .dataframe tbody tr th {\n",
       "        vertical-align: top;\n",
       "    }\n",
       "\n",
       "    .dataframe thead th {\n",
       "        text-align: right;\n",
       "    }\n",
       "<\/style>\n",
       "<table border=\"1\" class=\"dataframe\">\n",
       "  <thead>\n",
       "    <tr style=\"text-align: right;\">\n",
       "      <th><\/th>\n",
       "      <th>continent<\/th>\n",
       "      <th>count(name)<\/th>\n",
       "    <\/tr>\n",
       "  <\/thead>\n",
       "  <tbody>\n",
       "    <tr>\n",
       "      <th>0<\/th>\n",
       "      <td>Africa<\/td>\n",
       "      <td>53<\/td>\n",
       "    <\/tr>\n",
       "    <tr>\n",
       "      <th>1<\/th>\n",
       "      <td>Asia<\/td>\n",
       "      <td>47<\/td>\n",
       "    <\/tr>\n",
       "    <tr>\n",
       "      <th>2<\/th>\n",
       "      <td>Europe<\/td>\n",
       "      <td>44<\/td>\n",
       "    <\/tr>\n",
       "    <tr>\n",
       "      <th>3<\/th>\n",
       "      <td>Oceania<\/td>\n",
       "      <td>14<\/td>\n",
       "    <\/tr>\n",
       "    <tr>\n",
       "      <th>4<\/th>\n",
       "      <td>South America<\/td>\n",
       "      <td>13<\/td>\n",
       "    <\/tr>\n",
       "    <tr>\n",
       "      <th>5<\/th>\n",
       "      <td>North America<\/td>\n",
       "      <td>11<\/td>\n",
       "    <\/tr>\n",
       "    <tr>\n",
       "      <th>6<\/th>\n",
       "      <td>Caribbean<\/td>\n",
       "      <td>11<\/td>\n",
       "    <\/tr>\n",
       "    <tr>\n",
       "      <th>7<\/th>\n",
       "      <td>Eurasia<\/td>\n",
       "      <td>2<\/td>\n",
       "    <\/tr>\n",
       "  <\/tbody>\n",
       "<\/table>\n",
       "<\/div>"
      ]
     },
     "metadata":{
      
     },
     "output_type":"display_data"
    }
   ],
   "metadata":{
    "datalore":{
     "node_id":"sb18dSPgysiTqZakWD6SgW",
     "type":"SQL",
     "hide_input_from_viewers":false,
     "hide_output_from_viewers":false,
     "sql_cell_properties":{
      "dbId":"FCwQXbeBnu6d8c7VnEMBT9",
      "variableName":"df_8",
      "dialect":"mysql.8"
     }
    }
   }
  },
  {
   "cell_type":"code",
   "source":[
    "\/*\n",
    "7. Counting big countries in each continent\n",
    "For each continent show the continent and number of countries with populations of at least 10 million.\n",
    "*\/\n",
    "\n",
    "select continent, count(name)\n",
    "from World\n",
    "where population >= 10000000\n",
    "group by continent\n",
    "order by count(name) \n",
    "limit 3"
   ],
   "execution_count":37,
   "outputs":[
    {
     "data":{
      "text\/html":[
       "<div>\n",
       "<style scoped>\n",
       "    .dataframe tbody tr th:only-of-type {\n",
       "        vertical-align: middle;\n",
       "    }\n",
       "\n",
       "    .dataframe tbody tr th {\n",
       "        vertical-align: top;\n",
       "    }\n",
       "\n",
       "    .dataframe thead th {\n",
       "        text-align: right;\n",
       "    }\n",
       "<\/style>\n",
       "<table border=\"1\" class=\"dataframe\">\n",
       "  <thead>\n",
       "    <tr style=\"text-align: right;\">\n",
       "      <th><\/th>\n",
       "      <th>continent<\/th>\n",
       "      <th>count(name)<\/th>\n",
       "    <\/tr>\n",
       "  <\/thead>\n",
       "  <tbody>\n",
       "    <tr>\n",
       "      <th>0<\/th>\n",
       "      <td>Eurasia<\/td>\n",
       "      <td>1<\/td>\n",
       "    <\/tr>\n",
       "    <tr>\n",
       "      <th>1<\/th>\n",
       "      <td>Oceania<\/td>\n",
       "      <td>1<\/td>\n",
       "    <\/tr>\n",
       "    <tr>\n",
       "      <th>2<\/th>\n",
       "      <td>Caribbean<\/td>\n",
       "      <td>2<\/td>\n",
       "    <\/tr>\n",
       "  <\/tbody>\n",
       "<\/table>\n",
       "<\/div>"
      ]
     },
     "metadata":{
      
     },
     "output_type":"display_data"
    }
   ],
   "metadata":{
    "datalore":{
     "node_id":"te9WgqYcVvVga9iE5eVqv6",
     "type":"SQL",
     "hide_input_from_viewers":false,
     "hide_output_from_viewers":false,
     "sql_cell_properties":{
      "dbId":"FCwQXbeBnu6d8c7VnEMBT9",
      "variableName":"df_9",
      "dialect":"mysql.8"
     }
    }
   }
  },
  {
   "cell_type":"code",
   "source":[
    "SELECT continent, SUM(population)\n",
    "  FROM World\n",
    "  -- fuj where SUM(population)>500000000\n",
    " GROUP BY continent\n",
    " -- <> !=\n",
    "HAVING SUM(population)<=500000000\n",
    "order by SUM(population) DESC"
   ],
   "execution_count":45,
   "outputs":[
    {
     "data":{
      "text\/html":[
       "<div>\n",
       "<style scoped>\n",
       "    .dataframe tbody tr th:only-of-type {\n",
       "        vertical-align: middle;\n",
       "    }\n",
       "\n",
       "    .dataframe tbody tr th {\n",
       "        vertical-align: top;\n",
       "    }\n",
       "\n",
       "    .dataframe thead th {\n",
       "        text-align: right;\n",
       "    }\n",
       "<\/style>\n",
       "<table border=\"1\" class=\"dataframe\">\n",
       "  <thead>\n",
       "    <tr style=\"text-align: right;\">\n",
       "      <th><\/th>\n",
       "      <th>continent<\/th>\n",
       "      <th>SUM(population)<\/th>\n",
       "    <\/tr>\n",
       "  <\/thead>\n",
       "  <tbody>\n",
       "    <tr>\n",
       "      <th>0<\/th>\n",
       "      <td>South America<\/td>\n",
       "      <td>407618970<\/td>\n",
       "    <\/tr>\n",
       "    <tr>\n",
       "      <th>1<\/th>\n",
       "      <td>Eurasia<\/td>\n",
       "      <td>149017400<\/td>\n",
       "    <\/tr>\n",
       "    <tr>\n",
       "      <th>2<\/th>\n",
       "      <td>Oceania<\/td>\n",
       "      <td>37783477<\/td>\n",
       "    <\/tr>\n",
       "    <tr>\n",
       "      <th>3<\/th>\n",
       "      <td>Caribbean<\/td>\n",
       "      <td>36149204<\/td>\n",
       "    <\/tr>\n",
       "  <\/tbody>\n",
       "<\/table>\n",
       "<\/div>"
      ]
     },
     "metadata":{
      
     },
     "output_type":"display_data"
    }
   ],
   "metadata":{
    "datalore":{
     "node_id":"IDRZgmq7MGg3pvikyogNxy",
     "type":"SQL",
     "hide_input_from_viewers":false,
     "hide_output_from_viewers":false,
     "sql_cell_properties":{
      "dbId":"FCwQXbeBnu6d8c7VnEMBT9",
      "variableName":"df_10",
      "dialect":"mysql.8"
     }
    }
   }
  }
 ],
 "metadata":{
  "kernelspec":{
   "display_name":"Python",
   "language":"python",
   "name":"python"
  },
  "datalore":{
   "version":1,
   "computation_mode":"JUPYTER",
   "package_manager":"pip",
   "base_environment":"default",
   "packages":[
    
   ]
  }
 },
 "nbformat":4,
 "nbformat_minor":4
}